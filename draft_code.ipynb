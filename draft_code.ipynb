{
 "cells": [
  {
   "cell_type": "code",
   "execution_count": 8,
   "metadata": {},
   "outputs": [
    {
     "name": "stdout",
     "output_type": "stream",
     "text": [
      "The iminizinc extension is already loaded. To reload it, use:\n",
      "  %reload_ext iminizinc\n"
     ]
    }
   ],
   "source": [
    "%load_ext iminizinc"
   ]
  },
  {
   "cell_type": "code",
   "execution_count": 18,
   "metadata": {},
   "outputs": [
    {
     "name": "stdout",
     "output_type": "stream",
     "text": [
      "##################################################\n",
      "Number of customers are: 9\n",
      "Demands at each node are: [10, 5, 16, 1, 18, 28, 29, 26, 0]\n",
      "Number of vehicles available: 10\n",
      "Maximum capacity of each vehicle: 30\n",
      "##################################################\n",
      "\n"
     ]
    }
   ],
   "source": [
    "import argparse\n",
    "import random\n",
    "import numpy as np \n",
    "import matplotlib.pyplot as plt\n",
    "from matplotlib import colors as mcolors\n",
    "import networkx as nx\n",
    "from minizinc import Instance, Model, Solver\n",
    "\n",
    "random.seed(96)\n",
    "np.random.seed(10)\n",
    "####################################################\n",
    "\n",
    "# define parameters for the problem\n",
    "num_cust = 9                     # number of nodes nodes\n",
    "max_num_vehicles = 10            # number of vehicles available\n",
    "max_vehicle_capacity = 30    # capacity each vehicle can take\n",
    "demands = np.random.randint(1,max_vehicle_capacity,num_cust-1,int)  # demands at each node\n",
    "demands = np.concatenate((demands,np.array([0]))) # add zero to the last node which is the depot\n",
    "demands = [int(d) for d in demands] # because minizinc does not accept np.int64, have to explicitly convert to int\n",
    "####################################################\n",
    "# colours available in matplotlib\n",
    "colours_list = list(mcolors.cnames.keys())\n",
    "# create a node class\n",
    "class Node:\n",
    "    def __init__(self,name=None, pos=None, grid_size=100):\n",
    "        self.name = name\n",
    "        self.pos = pos\n",
    "        if pos == None:\n",
    "            self.pos = tuple(np.random.randint(0,grid_size,2))\n",
    "        \n",
    "    def distance(self, node):\n",
    "        pos1 = np.array(self.pos)\n",
    "        pos2 = np.array(node.pos)\n",
    "        return int(np.linalg.norm(pos1-pos2))\n",
    "####################################################\n",
    "# create a random graph with random node positions\n",
    "colors = random.sample(colours_list,max_num_vehicles)\n",
    "node_names = []\n",
    "node_labels = {}\n",
    "nodes = []\n",
    "pos = {}\n",
    "for i in range(num_cust):\n",
    "    node = Node(name=i+1)\n",
    "    nodes.append(node)\n",
    "    node_labels[i+1] = str(i+1)\n",
    "    node_names.append(node.name)\n",
    "    pos[i+1] = node.pos\n",
    "####################################################\n",
    "# create distance matrix\n",
    "dist = np.zeros((num_cust,num_cust))\n",
    "for i in range(num_cust):\n",
    "    for j in range(num_cust):\n",
    "        dist[i,j] = nodes[i].distance(nodes[j])\n",
    "dist = dist.astype(int)\n",
    "dist = dist.tolist()\n",
    "\n",
    "# print the problem parameters\n",
    "print('#'*50)\n",
    "print(f'Number of customers are: {num_cust}')\n",
    "print(f'Demands at each node are: {demands}')\n",
    "print(f'Number of vehicles available: {max_num_vehicles}')\n",
    "print(f'Maximum capacity of each vehicle: {max_vehicle_capacity}')\n",
    "print('#'*50)\n",
    "print()\n",
    "\n",
    "demand = demands\n",
    "# instance['service'] = [90,90,90,90,90,0]\n",
    "# instance['ready_time'] = [912,825,65,727,15,0]\n",
    "# instance['due_time'] = [967,870,146,782,67,1236]\n",
    "distance = dist"
   ]
  },
  {
   "cell_type": "code",
   "execution_count": 29,
   "metadata": {},
   "outputs": [],
   "source": [
    "%%minizinc -m bind\n",
    "\n",
    "include \"globals.mzn\";\n",
    "    int: n; % Number of customers\n",
    "    int: m; % Maximum number of vehicles\n",
    "    int: DEPOT = n+1;\n",
    "    set of int: CUSTOMERS = 1..n+1;\n",
    "    set of int: NOTDEPOT = 1..n; % all customers, depot excluded\n",
    "    set of int: VEHICLES = 1..m;\n",
    "    set of int: CAPACITY = 0..capacity;\n",
    "    int: capacity; % Capacity of each vehicle\n",
    "    array[CUSTOMERS,CUSTOMERS] of int: distance; % Distance between customers\n",
    "    array[CUSTOMERS] of int: demand; % Demand of each customer\n",
    "    % array[CUSTOMERS] of int: service; % Service time\n",
    "    % array[CUSTOMERS] of int: ready_time; % Time window for each customer (ignored here)\n",
    "    % array[CUSTOMERS] of int: due_time; % Time window for each customer (ignored here)\n",
    "    array[VEHICLES,CUSTOMERS] of var CUSTOMERS: succ; % succ[v,c] is customer vehicle v visits after customer c\n",
    "    array[VEHICLES] of var CAPACITY: load; % load[v] is demand satisfied by vehicle v\n",
    "    var VEHICLES: vehiclesUsed; \n",
    "    var int: distanceTravelled;\n",
    "    constraint forall(v in VEHICLES)(subcircuit(row(succ,v)));\n",
    "    constraint forall(v in VEHICLES,c in NOTDEPOT)(succ[v,DEPOT] = DEPOT -> succ[v,c] = c);\n",
    "    constraint forall(c in NOTDEPOT)(count_eq(col(succ,c),c,m-1));\n",
    "    constraint forall(v in VEHICLES)(load[v] = sum(c in NOTDEPOT)(if (succ[v,c] = c) then 0 else demand[c] endif));\n",
    "    constraint vehiclesUsed = sum(v in VEHICLES)(succ[v,DEPOT] != DEPOT);\n",
    "    constraint distanceTravelled = sum(v in VEHICLES,c in CUSTOMERS)(distance[c,succ[v,c]]);\n",
    "    constraint forall(v in 1..m-1)(lex_greatereq(row(succ,v),row(succ,v+1))); % symmetry break\n",
    "    %constraint forall(v in 1..m-1)(load[v] >= load[v+1]); % symmetry break\n",
    "    solve::int_search([succ[v,c] | v in VEHICLES,c in CUSTOMERS],smallest,indomain_max,complete) minimize distanceTravelled;"
   ]
  },
  {
   "cell_type": "code",
   "execution_count": 39,
   "metadata": {},
   "outputs": [
    {
     "name": "stdout",
     "output_type": "stream",
     "text": [
      "########## SOLUTION FOUND ####################\n",
      "Distance Travelled: 485\n",
      "Number of Vehicles used: 5\n",
      "##################################################\n"
     ]
    },
    {
     "data": {
      "image/png": "[encoded data removed]",
      "text/plain": [
       "<Figure size 432x288 with 1 Axes>"
      ]
     },
     "metadata": {},
     "output_type": "display_data"
    }
   ],
   "source": [
    "result = succ\n",
    "\n",
    "#vehicles_used = result['vehiclesUsed']\n",
    "# print(np.array(result['succ'])[:vehicles_used])\n",
    "print('#'*10 + ' SOLUTION FOUND ' + '#'*20)\n",
    "print(f'Distance Travelled: {distanceTravelled}')\n",
    "print(f'Number of Vehicles used: {vehiclesUsed}')\n",
    "print('#'*50)\n",
    "paths = np.array(succ)[:vehiclesUsed]\n",
    "\n",
    "# plot the graph\n",
    "G = nx.DiGraph() \n",
    "G.add_nodes_from(node_names)\n",
    "\n",
    "# add colours to the paths depending on which vehicle visits it\n",
    "for vehicle_num in range(paths.shape[0]):\n",
    "    for dest_num in range(paths.shape[1]):\n",
    "        G.add_edge(dest_num+1,paths[vehicle_num,dest_num],weight=dist[dest_num][paths[vehicle_num,dest_num]-1], color=colors[vehicle_num])\n",
    "\n",
    "edgelist = G.edges()\n",
    "nodelist = G.nodes()\n",
    "edge_colors = [G[u][v]['color'] for u,v in edgelist]\n",
    "edge_labels = nx.get_edge_attributes(G,'weight')\n",
    "############################################################\n",
    "# nx.draw(G,pos=pos,with_labels=True, node_colors='light_blue', edge_colors=edge_colors,connectionstyle='arc3, rad = 0.1')\n",
    "# nx.draw_networkx_edge_labels(G,pos=pos,edge_labels=labels)\n",
    "############################################################\n",
    "nx.draw_networkx_nodes(G,pos,nodelist=nodelist,node_color='b')\n",
    "nx.draw_networkx_labels(G, pos, node_labels)\n",
    "nx.draw_networkx_edges(G,pos,edgelist=edgelist,edge_color=edge_colors,connectionstyle='arc3, rad = 0.1')\n",
    "nx.draw_networkx_edge_labels(G,pos=pos,edge_labels=edge_labels)\n",
    "plt.title('Path found by the solver')\n",
    "plt.show()\n",
    "############################################################"
   ]
  },
  {
   "cell_type": "code",
   "execution_count": null,
   "metadata": {},
   "outputs": [],
   "source": []
  }
 ],
 "metadata": {
  "kernelspec": {
   "display_name": "Python 3",
   "language": "python",
   "name": "python3"
  },
  "language_info": {
   "codemirror_mode": {
    "name": "ipython",
    "version": 3
   },
   "file_extension": ".py",
   "mimetype": "text/x-python",
   "name": "python",
   "nbconvert_exporter": "python",
   "pygments_lexer": "ipython3",
   "version": "3.7.9"
  }
 },
 "nbformat": 4,
 "nbformat_minor": 4
}
