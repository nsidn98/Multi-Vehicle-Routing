{
  "nbformat": 4,
  "nbformat_minor": 0,
  "metadata": {
    "kernelspec": {
      "display_name": "Python 3",
      "language": "python",
      "name": "python3"
    },
    "language_info": {
      "codemirror_mode": {
        "name": "ipython",
        "version": 3
      },
      "file_extension": ".py",
      "mimetype": "text/x-python",
      "name": "python",
      "nbconvert_exporter": "python",
      "pygments_lexer": "ipython3",
      "version": "3.6.5"
    },
    "colab": {
      "name": "multi-vehicle-routing.ipynb",
      "provenance": []
    }
  },
  "cells": [
    {
      "cell_type": "markdown",
      "metadata": {
        "id": "-uAlzKxUWGfe"
      },
      "source": [
        "# Multi Vehicle Routing (16.413/6.877 course project)"
      ]
    },
    {
      "cell_type": "code",
      "metadata": {
        "id": "1pe9CRbhRpf0"
      },
      "source": [
        "# TODO: @clarefrigo describe the problem "
      ],
      "execution_count": null,
      "outputs": []
    },
    {
      "cell_type": "code",
      "metadata": {
        "id": "3Ip0Zx26W__1"
      },
      "source": [
        "# TODO: @nsidn98 setup the environment/ define the network/graph"
      ],
      "execution_count": null,
      "outputs": []
    },
    {
      "cell_type": "code",
      "metadata": {
        "id": "lWVmtdsSXqXp"
      },
      "source": [
        "# TODO: @sjvigil add droid class info"
      ],
      "execution_count": null,
      "outputs": []
    },
    {
      "cell_type": "code",
      "metadata": {
        "id": "xUyYYspAXHM1"
      },
      "source": [
        "# TODO: @anickles21 add CSP class info"
      ],
      "execution_count": null,
      "outputs": []
    }
  ]
}