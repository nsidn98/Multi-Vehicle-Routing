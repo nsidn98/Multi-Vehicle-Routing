{
  "nbformat": 4,
  "nbformat_minor": 0,
  "metadata": {
    "kernelspec": {
      "display_name": "Python 3",
      "language": "python",
      "name": "python3"
    },
    "language_info": {
      "codemirror_mode": {
        "name": "ipython",
        "version": 3
      },
      "file_extension": ".py",
      "mimetype": "text/x-python",
      "name": "python",
      "nbconvert_exporter": "python",
      "pygments_lexer": "ipython3",
      "version": "3.6.5"
    },
    "colab": {
      "name": "multi-vehicle-routing.ipynb",
      "provenance": []
    }
  },
  "cells": [
    {
      "cell_type": "markdown",
      "metadata": {
        "id": "-uAlzKxUWGfe"
      },
      "source": [
        "# Multi Vehicle Routing (16.413/6.877 course project)"
      ]
    },
    {
      "cell_type": "code",
      "metadata": {
        "id": "1pe9CRbhRpf0"
      },
      "source": [
        "# TODO: @clarefrigo describe the problem "
      ],
      "execution_count": null,
      "outputs": []
    },
    {
      "cell_type": "code",
      "metadata": {
        "id": "3Ip0Zx26W__1"
      },
      "source": [
        "# TODO: @nsidn98 setup the environment/ define the network/graph\n",
        "import math\n",
        "import numpy as np\n",
        "\n",
        "class Depot:\n",
        "    def __init__(self, depot_id:int, x:int, y:int, service_time:int, is_serviced:bool=False):\n",
        "        \"\"\"\n",
        "            Definition of each depot\n",
        "            params:\n",
        "                depot_id: int\n",
        "                    The index of the depot\n",
        "                    Example : 10\n",
        "                x: int\n",
        "                    The x co-oordinate of the depot in the 2D plane\n",
        "                    Example: 0\n",
        "                y: int\n",
        "                    The y co-oordinate of the depot in the 2D plane\n",
        "                    Example: 0\n",
        "                service_time: int\n",
        "                    The amount of time spent at this depot to make repairs\n",
        "                    Example : 13\n",
        "                is_serviced: bool\n",
        "                    To track whether it has been repaired or not\n",
        "                    Set it to True if no repair is needed\n",
        "                    Default is set to False, so all depots require repair by default\n",
        "        \"\"\"\n",
        "        self.depot_id = depot_id\n",
        "        self.x = x\n",
        "        self.y = y\n",
        "        self.service_time = service_time\n",
        "        self.is_serviced = is_serviced    # boolean to track whether depot has been repaired\n",
        "    \n",
        "    def __repr__(self):\n",
        "        \"\"\"\n",
        "            Representation of the class.\n",
        "            Usage:\n",
        "                depot = Depot(10,0,0,13)\n",
        "                print(depot)\n",
        "        \"\"\"\n",
        "        return f\"Depot ID: {self.depot_id}\\n\"\\\n",
        "               f\"Co-ordinates: {self.x, self.y}\\n\"\\\n",
        "               f\"Repair time: {self.service_time}\\n\"\\\n",
        "               f\"Does depot need repair?: {not self.is_serviced}\"\n",
        "\n",
        "    def distance(self, target:Depot):\n",
        "        \"\"\"\n",
        "            Distance between this depot and the target depot co-ords\n",
        "            params:\n",
        "                target: Depot\n",
        "            usage:\n",
        "                depot1 = Depot(1,0,0,13)\n",
        "                depot2 = Depot(2,10,0,10)\n",
        "                depot12_dist = depot1.distance(depot2)\n",
        "        \"\"\"\n",
        "        return math.sqrt(math.pow(self.x - target.x, 2) + math.pow(target.y - self.y, 2))\n",
        "\n",
        "class Network:\n",
        "    def __init__(self, data:np.ndarray):\n",
        "        \"\"\"\n",
        "            Create a 2D network which will have the following:\n",
        "                * network of depots\n",
        "                * starting depot of the droids\n",
        "                * ending depot of the droids (maybe same as start)\n",
        "            params:\n",
        "                data: np.ndarray\n",
        "                2D array which contains the\n",
        "                [depot-id, coords, service_time, service_requirement]\n",
        "                as its columns\n",
        "        \"\"\"\n",
        "        self.create_network(data)   # create the network of depots\n",
        "\n",
        "    def create_network(self, data:np.ndarray):\n",
        "        \"\"\"\n",
        "            Create a network of depots\n",
        "            params:\n",
        "                data: np.ndarray\n",
        "                2D array which contains the\n",
        "                [depot-id, coords, service_time, service_requirement]\n",
        "                as its columns\n",
        "        \"\"\"\n",
        "        self.network = {}\n",
        "        for i in range(len(data)):\n",
        "            depot_id, x, y, service_time, service_requirement = data[i]\n",
        "            self.network[str(i)] = Depot(depot_id, x, y, service_time, service_requirement)\n",
        "        \n",
        "    def plot(self):\n",
        "        \"\"\"\n",
        "            Plot the 2D network\n",
        "            Use networkx, shapely and matplotlib to plot the network\n",
        "        \"\"\"\n",
        "        pass\n"
      ],
      "execution_count": null,
      "outputs": []
    },
    {
      "cell_type": "code",
      "metadata": {
        "id": "lWVmtdsSXqXp"
      },
      "source": [
        "# TODO: @sjvigil add droid class info"
      ],
      "execution_count": null,
      "outputs": []
    },
    {
      "cell_type": "code",
      "metadata": {
        "id": "xUyYYspAXHM1"
      },
      "source": [
        "# TODO: @anickles21 add CSP class info"
      ],
      "execution_count": null,
      "outputs": []
    }
  ]
}