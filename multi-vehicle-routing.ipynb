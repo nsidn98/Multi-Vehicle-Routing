{
  "nbformat": 4,
  "nbformat_minor": 0,
  "metadata": {
    "kernelspec": {
      "display_name": "Python 3",
      "language": "python",
      "name": "python3"
    },
    "language_info": {
      "codemirror_mode": {
        "name": "ipython",
        "version": 3
      },
      "file_extension": ".py",
      "mimetype": "text/x-python",
      "name": "python",
      "nbconvert_exporter": "python",
      "pygments_lexer": "ipython3",
      "version": "3.6.5"
    },
    "colab": {
      "name": "multi-vehicle-routing.ipynb",
      "provenance": []
    }
  },
  "cells": [
    {
      "cell_type": "markdown",
      "metadata": {
        "id": "-uAlzKxUWGfe"
      },
      "source": [
        "# Multi Vehicle Routing (16.413/6.877 course project)"
      ]
    },
    {
      "cell_type": "code",
      "metadata": {
        "id": "1pe9CRbhRpf0"
      },
      "source": [
        "# do stuff\n",
        "\n",
        "# checking 'save' feature with colab private repos\n"
      ],
      "execution_count": null,
      "outputs": []
    }
  ]
}